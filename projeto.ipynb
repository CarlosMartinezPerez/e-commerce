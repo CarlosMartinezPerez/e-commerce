{
 "cells": [
  {
   "cell_type": "markdown",
   "metadata": {},
   "source": [
    "# <font color='red'>Data Analysis Project</font>\n",
    "## <font color='red'>E-commerce dataset from Kaggle.com</font>"
   ]
  },
  {
   "cell_type": "markdown",
   "metadata": {},
   "source": [
    "Packages loading"
   ]
  },
  {
   "cell_type": "code",
   "execution_count": 350,
   "metadata": {},
   "outputs": [],
   "source": [
    "import numpy as np\n",
    "import pandas as pd\n",
    "import seaborn as sns\n",
    "import matplotlib.pyplot as plt"
   ]
  },
  {
   "cell_type": "markdown",
   "metadata": {},
   "source": [
    "Data loading"
   ]
  },
  {
   "cell_type": "code",
   "execution_count": 351,
   "metadata": {},
   "outputs": [
    {
     "data": {
      "text/plain": [
       "(541909, 8)"
      ]
     },
     "execution_count": 351,
     "metadata": {},
     "output_type": "execute_result"
    }
   ],
   "source": [
    "df_1 = pd.read_csv('data.csv', encoding='ISO-8859-1')\n",
    "df_1.shape"
   ]
  },
  {
   "cell_type": "code",
   "execution_count": 352,
   "metadata": {},
   "outputs": [
    {
     "data": {
      "text/html": [
       "<div>\n",
       "<style scoped>\n",
       "    .dataframe tbody tr th:only-of-type {\n",
       "        vertical-align: middle;\n",
       "    }\n",
       "\n",
       "    .dataframe tbody tr th {\n",
       "        vertical-align: top;\n",
       "    }\n",
       "\n",
       "    .dataframe thead th {\n",
       "        text-align: right;\n",
       "    }\n",
       "</style>\n",
       "<table border=\"1\" class=\"dataframe\">\n",
       "  <thead>\n",
       "    <tr style=\"text-align: right;\">\n",
       "      <th></th>\n",
       "      <th>InvoiceNo</th>\n",
       "      <th>StockCode</th>\n",
       "      <th>Description</th>\n",
       "      <th>Quantity</th>\n",
       "      <th>InvoiceDate</th>\n",
       "      <th>UnitPrice</th>\n",
       "      <th>CustomerID</th>\n",
       "      <th>Country</th>\n",
       "    </tr>\n",
       "  </thead>\n",
       "  <tbody>\n",
       "    <tr>\n",
       "      <th>0</th>\n",
       "      <td>536365</td>\n",
       "      <td>85123A</td>\n",
       "      <td>WHITE HANGING HEART T-LIGHT HOLDER</td>\n",
       "      <td>6</td>\n",
       "      <td>12/1/2010 8:26</td>\n",
       "      <td>2.55</td>\n",
       "      <td>17850.0</td>\n",
       "      <td>United Kingdom</td>\n",
       "    </tr>\n",
       "    <tr>\n",
       "      <th>1</th>\n",
       "      <td>536365</td>\n",
       "      <td>71053</td>\n",
       "      <td>WHITE METAL LANTERN</td>\n",
       "      <td>6</td>\n",
       "      <td>12/1/2010 8:26</td>\n",
       "      <td>3.39</td>\n",
       "      <td>17850.0</td>\n",
       "      <td>United Kingdom</td>\n",
       "    </tr>\n",
       "    <tr>\n",
       "      <th>2</th>\n",
       "      <td>536365</td>\n",
       "      <td>84406B</td>\n",
       "      <td>CREAM CUPID HEARTS COAT HANGER</td>\n",
       "      <td>8</td>\n",
       "      <td>12/1/2010 8:26</td>\n",
       "      <td>2.75</td>\n",
       "      <td>17850.0</td>\n",
       "      <td>United Kingdom</td>\n",
       "    </tr>\n",
       "    <tr>\n",
       "      <th>3</th>\n",
       "      <td>536365</td>\n",
       "      <td>84029G</td>\n",
       "      <td>KNITTED UNION FLAG HOT WATER BOTTLE</td>\n",
       "      <td>6</td>\n",
       "      <td>12/1/2010 8:26</td>\n",
       "      <td>3.39</td>\n",
       "      <td>17850.0</td>\n",
       "      <td>United Kingdom</td>\n",
       "    </tr>\n",
       "    <tr>\n",
       "      <th>4</th>\n",
       "      <td>536365</td>\n",
       "      <td>84029E</td>\n",
       "      <td>RED WOOLLY HOTTIE WHITE HEART.</td>\n",
       "      <td>6</td>\n",
       "      <td>12/1/2010 8:26</td>\n",
       "      <td>3.39</td>\n",
       "      <td>17850.0</td>\n",
       "      <td>United Kingdom</td>\n",
       "    </tr>\n",
       "  </tbody>\n",
       "</table>\n",
       "</div>"
      ],
      "text/plain": [
       "  InvoiceNo StockCode                          Description  Quantity  \\\n",
       "0    536365    85123A   WHITE HANGING HEART T-LIGHT HOLDER         6   \n",
       "1    536365     71053                  WHITE METAL LANTERN         6   \n",
       "2    536365    84406B       CREAM CUPID HEARTS COAT HANGER         8   \n",
       "3    536365    84029G  KNITTED UNION FLAG HOT WATER BOTTLE         6   \n",
       "4    536365    84029E       RED WOOLLY HOTTIE WHITE HEART.         6   \n",
       "\n",
       "      InvoiceDate  UnitPrice  CustomerID         Country  \n",
       "0  12/1/2010 8:26       2.55     17850.0  United Kingdom  \n",
       "1  12/1/2010 8:26       3.39     17850.0  United Kingdom  \n",
       "2  12/1/2010 8:26       2.75     17850.0  United Kingdom  \n",
       "3  12/1/2010 8:26       3.39     17850.0  United Kingdom  \n",
       "4  12/1/2010 8:26       3.39     17850.0  United Kingdom  "
      ]
     },
     "execution_count": 352,
     "metadata": {},
     "output_type": "execute_result"
    }
   ],
   "source": [
    "df_1.head()"
   ]
  },
  {
   "cell_type": "code",
   "execution_count": 353,
   "metadata": {},
   "outputs": [
    {
     "name": "stdout",
     "output_type": "stream",
     "text": [
      "  InvoiceNo StockCode                          Description  Quantity  \\\n",
      "0    536365    85123A   WHITE HANGING HEART T-LIGHT HOLDER         6   \n",
      "1    536365     71053                  WHITE METAL LANTERN         6   \n",
      "2    536365    84406B       CREAM CUPID HEARTS COAT HANGER         8   \n",
      "3    536365    84029G  KNITTED UNION FLAG HOT WATER BOTTLE         6   \n",
      "4    536365    84029E       RED WOOLLY HOTTIE WHITE HEART.         6   \n",
      "\n",
      "      InvoiceDate  UnitPrice  CustomerID         Country  TotalPrice  \n",
      "0  12/1/2010 8:26       2.55     17850.0  United Kingdom       15.30  \n",
      "1  12/1/2010 8:26       3.39     17850.0  United Kingdom       20.34  \n",
      "2  12/1/2010 8:26       2.75     17850.0  United Kingdom       22.00  \n",
      "3  12/1/2010 8:26       3.39     17850.0  United Kingdom       20.34  \n",
      "4  12/1/2010 8:26       3.39     17850.0  United Kingdom       20.34  \n"
     ]
    }
   ],
   "source": [
    "# Adicionar a coluna TotalPrice ao dataframe df_1\n",
    "df_1['TotalPrice'] = df_1['Quantity'] * df_1['UnitPrice']\n",
    "\n",
    "# Exibir as primeiras linhas para verificar se a coluna foi adicionada corretamente\n",
    "print(df_1.head())\n"
   ]
  },
  {
   "cell_type": "code",
   "execution_count": 354,
   "metadata": {},
   "outputs": [
    {
     "name": "stdout",
     "output_type": "stream",
     "text": [
      "<class 'pandas.core.frame.DataFrame'>\n",
      "RangeIndex: 541909 entries, 0 to 541908\n",
      "Data columns (total 9 columns):\n",
      " #   Column       Non-Null Count   Dtype  \n",
      "---  ------       --------------   -----  \n",
      " 0   InvoiceNo    541909 non-null  object \n",
      " 1   StockCode    541909 non-null  object \n",
      " 2   Description  540455 non-null  object \n",
      " 3   Quantity     541909 non-null  int64  \n",
      " 4   InvoiceDate  541909 non-null  object \n",
      " 5   UnitPrice    541909 non-null  float64\n",
      " 6   CustomerID   406829 non-null  float64\n",
      " 7   Country      541909 non-null  object \n",
      " 8   TotalPrice   541909 non-null  float64\n",
      "dtypes: float64(3), int64(1), object(5)\n",
      "memory usage: 37.2+ MB\n"
     ]
    }
   ],
   "source": [
    "df_1.info()"
   ]
  },
  {
   "cell_type": "code",
   "execution_count": 355,
   "metadata": {},
   "outputs": [
    {
     "data": {
      "text/html": [
       "<div>\n",
       "<style scoped>\n",
       "    .dataframe tbody tr th:only-of-type {\n",
       "        vertical-align: middle;\n",
       "    }\n",
       "\n",
       "    .dataframe tbody tr th {\n",
       "        vertical-align: top;\n",
       "    }\n",
       "\n",
       "    .dataframe thead th {\n",
       "        text-align: right;\n",
       "    }\n",
       "</style>\n",
       "<table border=\"1\" class=\"dataframe\">\n",
       "  <thead>\n",
       "    <tr style=\"text-align: right;\">\n",
       "      <th></th>\n",
       "      <th>Quantity</th>\n",
       "      <th>UnitPrice</th>\n",
       "      <th>CustomerID</th>\n",
       "      <th>TotalPrice</th>\n",
       "    </tr>\n",
       "  </thead>\n",
       "  <tbody>\n",
       "    <tr>\n",
       "      <th>count</th>\n",
       "      <td>541909.000000</td>\n",
       "      <td>541909.000000</td>\n",
       "      <td>406829.000000</td>\n",
       "      <td>541909.000000</td>\n",
       "    </tr>\n",
       "    <tr>\n",
       "      <th>mean</th>\n",
       "      <td>9.552250</td>\n",
       "      <td>4.611114</td>\n",
       "      <td>15287.690570</td>\n",
       "      <td>17.987795</td>\n",
       "    </tr>\n",
       "    <tr>\n",
       "      <th>std</th>\n",
       "      <td>218.081158</td>\n",
       "      <td>96.759853</td>\n",
       "      <td>1713.600303</td>\n",
       "      <td>378.810824</td>\n",
       "    </tr>\n",
       "    <tr>\n",
       "      <th>min</th>\n",
       "      <td>-80995.000000</td>\n",
       "      <td>-11062.060000</td>\n",
       "      <td>12346.000000</td>\n",
       "      <td>-168469.600000</td>\n",
       "    </tr>\n",
       "    <tr>\n",
       "      <th>25%</th>\n",
       "      <td>1.000000</td>\n",
       "      <td>1.250000</td>\n",
       "      <td>13953.000000</td>\n",
       "      <td>3.400000</td>\n",
       "    </tr>\n",
       "    <tr>\n",
       "      <th>50%</th>\n",
       "      <td>3.000000</td>\n",
       "      <td>2.080000</td>\n",
       "      <td>15152.000000</td>\n",
       "      <td>9.750000</td>\n",
       "    </tr>\n",
       "    <tr>\n",
       "      <th>75%</th>\n",
       "      <td>10.000000</td>\n",
       "      <td>4.130000</td>\n",
       "      <td>16791.000000</td>\n",
       "      <td>17.400000</td>\n",
       "    </tr>\n",
       "    <tr>\n",
       "      <th>max</th>\n",
       "      <td>80995.000000</td>\n",
       "      <td>38970.000000</td>\n",
       "      <td>18287.000000</td>\n",
       "      <td>168469.600000</td>\n",
       "    </tr>\n",
       "  </tbody>\n",
       "</table>\n",
       "</div>"
      ],
      "text/plain": [
       "            Quantity      UnitPrice     CustomerID     TotalPrice\n",
       "count  541909.000000  541909.000000  406829.000000  541909.000000\n",
       "mean        9.552250       4.611114   15287.690570      17.987795\n",
       "std       218.081158      96.759853    1713.600303     378.810824\n",
       "min    -80995.000000  -11062.060000   12346.000000 -168469.600000\n",
       "25%         1.000000       1.250000   13953.000000       3.400000\n",
       "50%         3.000000       2.080000   15152.000000       9.750000\n",
       "75%        10.000000       4.130000   16791.000000      17.400000\n",
       "max     80995.000000   38970.000000   18287.000000  168469.600000"
      ]
     },
     "execution_count": 355,
     "metadata": {},
     "output_type": "execute_result"
    }
   ],
   "source": [
    "df_1.describe()"
   ]
  },
  {
   "cell_type": "code",
   "execution_count": 356,
   "metadata": {},
   "outputs": [
    {
     "name": "stdout",
     "output_type": "stream",
     "text": [
      "-12.5 23.5\n",
      "-3.0700000000000003 8.45\n"
     ]
    }
   ],
   "source": [
    "# Cálculo do IQR para Quantity\n",
    "Q1_quantity = df_1['Quantity'].quantile(0.25)\n",
    "Q3_quantity = df_1['Quantity'].quantile(0.75)\n",
    "IQR_quantity = Q3_quantity - Q1_quantity\n",
    "\n",
    "# Definir limites para Quantity\n",
    "lower_bound_quantity = Q1_quantity - 1.5 * IQR_quantity\n",
    "upper_bound_quantity = Q3_quantity + 1.5 * IQR_quantity\n",
    "print(lower_bound_quantity, upper_bound_quantity)\n",
    "\n",
    "# Cálculo do IQR para UnitPrice\n",
    "Q1_unitprice = df_1['UnitPrice'].quantile(0.25)\n",
    "Q3_unitprice = df_1['UnitPrice'].quantile(0.75)\n",
    "IQR_unitprice = Q3_unitprice - Q1_unitprice\n",
    "\n",
    "# Definir limites para UnitPrice\n",
    "lower_bound_unitprice = Q1_unitprice - 1.5 * IQR_unitprice\n",
    "upper_bound_unitprice = Q3_unitprice + 1.5 * IQR_unitprice\n",
    "print(lower_bound_unitprice, upper_bound_unitprice)"
   ]
  },
  {
   "cell_type": "code",
   "execution_count": 357,
   "metadata": {},
   "outputs": [
    {
     "name": "stdout",
     "output_type": "stream",
     "text": [
      "Quantidade de registros após a remoção dos outliers: 444108\n"
     ]
    }
   ],
   "source": [
    "# Filtrar outliers em Quantity\n",
    "df_1 = df_1[(df_1['Quantity'] >= lower_bound_quantity) & (df_1['Quantity'] <= upper_bound_quantity)]\n",
    "\n",
    "# Filtrar outliers em UnitPrice\n",
    "df_1 = df_1[(df_1['UnitPrice'] >= lower_bound_unitprice) & (df_1['UnitPrice'] <= upper_bound_unitprice)]\n",
    "\n",
    "# Exibir a quantidade de registros após a remoção dos outliers\n",
    "print(f\"Quantidade de registros após a remoção dos outliers: {df_1.shape[0]}\")"
   ]
  },
  {
   "cell_type": "code",
   "execution_count": 358,
   "metadata": {},
   "outputs": [
    {
     "data": {
      "text/html": [
       "<div>\n",
       "<style scoped>\n",
       "    .dataframe tbody tr th:only-of-type {\n",
       "        vertical-align: middle;\n",
       "    }\n",
       "\n",
       "    .dataframe tbody tr th {\n",
       "        vertical-align: top;\n",
       "    }\n",
       "\n",
       "    .dataframe thead th {\n",
       "        text-align: right;\n",
       "    }\n",
       "</style>\n",
       "<table border=\"1\" class=\"dataframe\">\n",
       "  <thead>\n",
       "    <tr style=\"text-align: right;\">\n",
       "      <th></th>\n",
       "      <th>Quantity</th>\n",
       "      <th>UnitPrice</th>\n",
       "      <th>TotalPrice</th>\n",
       "    </tr>\n",
       "  </thead>\n",
       "  <tbody>\n",
       "    <tr>\n",
       "      <th>count</th>\n",
       "      <td>444108.000000</td>\n",
       "      <td>444108.000000</td>\n",
       "      <td>444108.000000</td>\n",
       "    </tr>\n",
       "    <tr>\n",
       "      <th>mean</th>\n",
       "      <td>4.803066</td>\n",
       "      <td>2.694544</td>\n",
       "      <td>10.470162</td>\n",
       "    </tr>\n",
       "    <tr>\n",
       "      <th>std</th>\n",
       "      <td>4.616762</td>\n",
       "      <td>1.930320</td>\n",
       "      <td>11.705544</td>\n",
       "    </tr>\n",
       "    <tr>\n",
       "      <th>min</th>\n",
       "      <td>-12.000000</td>\n",
       "      <td>0.000000</td>\n",
       "      <td>-97.800000</td>\n",
       "    </tr>\n",
       "    <tr>\n",
       "      <th>25%</th>\n",
       "      <td>1.000000</td>\n",
       "      <td>1.250000</td>\n",
       "      <td>2.950000</td>\n",
       "    </tr>\n",
       "    <tr>\n",
       "      <th>50%</th>\n",
       "      <td>3.000000</td>\n",
       "      <td>2.080000</td>\n",
       "      <td>6.800000</td>\n",
       "    </tr>\n",
       "    <tr>\n",
       "      <th>75%</th>\n",
       "      <td>8.000000</td>\n",
       "      <td>3.750000</td>\n",
       "      <td>15.000000</td>\n",
       "    </tr>\n",
       "    <tr>\n",
       "      <th>max</th>\n",
       "      <td>23.000000</td>\n",
       "      <td>8.330000</td>\n",
       "      <td>191.590000</td>\n",
       "    </tr>\n",
       "  </tbody>\n",
       "</table>\n",
       "</div>"
      ],
      "text/plain": [
       "            Quantity      UnitPrice     TotalPrice\n",
       "count  444108.000000  444108.000000  444108.000000\n",
       "mean        4.803066       2.694544      10.470162\n",
       "std         4.616762       1.930320      11.705544\n",
       "min       -12.000000       0.000000     -97.800000\n",
       "25%         1.000000       1.250000       2.950000\n",
       "50%         3.000000       2.080000       6.800000\n",
       "75%         8.000000       3.750000      15.000000\n",
       "max        23.000000       8.330000     191.590000"
      ]
     },
     "execution_count": 358,
     "metadata": {},
     "output_type": "execute_result"
    }
   ],
   "source": [
    "df_1[['Quantity', 'UnitPrice', 'TotalPrice']].describe()"
   ]
  },
  {
   "cell_type": "markdown",
   "metadata": {},
   "source": [
    "Treating rows with 'Quantity' or 'UnitPrice' less or equal to zero"
   ]
  },
  {
   "cell_type": "code",
   "execution_count": 359,
   "metadata": {},
   "outputs": [
    {
     "name": "stdout",
     "output_type": "stream",
     "text": [
      "Quantidade de registros com Quantity ou UnitPrice iguais ou menores do que zero: 7942\n"
     ]
    }
   ],
   "source": [
    "# Contar registros com Quantity ou UnitPrice iguais ou menores do que zero\n",
    "columns_zero = ((df_1['Quantity'] <= 0) | (df_1['UnitPrice'] <= 0)).sum()\n",
    "\n",
    "# Exibir os resultados\n",
    "print(f\"Quantidade de registros com Quantity ou UnitPrice iguais ou menores do que zero: {columns_zero}\")"
   ]
  },
  {
   "cell_type": "code",
   "execution_count": 360,
   "metadata": {},
   "outputs": [
    {
     "name": "stdout",
     "output_type": "stream",
     "text": [
      "Quantidade de registros antes da remoção: 444108\n",
      "Quantidade de registros após a remoção: 436166\n"
     ]
    }
   ],
   "source": [
    "# Exibir a quantidade de registros antes da remoção\n",
    "print(f\"Quantidade de registros antes da remoção: {df_1.shape[0]}\")\n",
    "\n",
    "# Deletar os registros onde UnitPrice é menor ou igual a zero\n",
    "df_1 = df_1[df_1['UnitPrice'] > 0]\n",
    "\n",
    "# Deletar os registros onde Quantity é menor ou igual a zero\n",
    "df_1 = df_1[df_1['Quantity'] > 0]\n",
    "\n",
    "# Exibir a quantidade de registros restantes para verificação\n",
    "print(f\"Quantidade de registros após a remoção: {df_1.shape[0]}\")"
   ]
  },
  {
   "cell_type": "code",
   "execution_count": 361,
   "metadata": {},
   "outputs": [
    {
     "data": {
      "text/html": [
       "<div>\n",
       "<style scoped>\n",
       "    .dataframe tbody tr th:only-of-type {\n",
       "        vertical-align: middle;\n",
       "    }\n",
       "\n",
       "    .dataframe tbody tr th {\n",
       "        vertical-align: top;\n",
       "    }\n",
       "\n",
       "    .dataframe thead th {\n",
       "        text-align: right;\n",
       "    }\n",
       "</style>\n",
       "<table border=\"1\" class=\"dataframe\">\n",
       "  <thead>\n",
       "    <tr style=\"text-align: right;\">\n",
       "      <th></th>\n",
       "      <th>Quantity</th>\n",
       "      <th>UnitPrice</th>\n",
       "      <th>TotalPrice</th>\n",
       "    </tr>\n",
       "  </thead>\n",
       "  <tbody>\n",
       "    <tr>\n",
       "      <th>count</th>\n",
       "      <td>436166.000000</td>\n",
       "      <td>436166.000000</td>\n",
       "      <td>436166.000000</td>\n",
       "    </tr>\n",
       "    <tr>\n",
       "      <th>mean</th>\n",
       "      <td>4.938260</td>\n",
       "      <td>2.699178</td>\n",
       "      <td>10.785505</td>\n",
       "    </tr>\n",
       "    <tr>\n",
       "      <th>std</th>\n",
       "      <td>4.508586</td>\n",
       "      <td>1.927294</td>\n",
       "      <td>11.514780</td>\n",
       "    </tr>\n",
       "    <tr>\n",
       "      <th>min</th>\n",
       "      <td>1.000000</td>\n",
       "      <td>0.001000</td>\n",
       "      <td>0.001000</td>\n",
       "    </tr>\n",
       "    <tr>\n",
       "      <th>25%</th>\n",
       "      <td>1.000000</td>\n",
       "      <td>1.250000</td>\n",
       "      <td>3.290000</td>\n",
       "    </tr>\n",
       "    <tr>\n",
       "      <th>50%</th>\n",
       "      <td>3.000000</td>\n",
       "      <td>2.080000</td>\n",
       "      <td>7.460000</td>\n",
       "    </tr>\n",
       "    <tr>\n",
       "      <th>75%</th>\n",
       "      <td>8.000000</td>\n",
       "      <td>3.750000</td>\n",
       "      <td>15.300000</td>\n",
       "    </tr>\n",
       "    <tr>\n",
       "      <th>max</th>\n",
       "      <td>23.000000</td>\n",
       "      <td>8.330000</td>\n",
       "      <td>191.590000</td>\n",
       "    </tr>\n",
       "  </tbody>\n",
       "</table>\n",
       "</div>"
      ],
      "text/plain": [
       "            Quantity      UnitPrice     TotalPrice\n",
       "count  436166.000000  436166.000000  436166.000000\n",
       "mean        4.938260       2.699178      10.785505\n",
       "std         4.508586       1.927294      11.514780\n",
       "min         1.000000       0.001000       0.001000\n",
       "25%         1.000000       1.250000       3.290000\n",
       "50%         3.000000       2.080000       7.460000\n",
       "75%         8.000000       3.750000      15.300000\n",
       "max        23.000000       8.330000     191.590000"
      ]
     },
     "execution_count": 361,
     "metadata": {},
     "output_type": "execute_result"
    }
   ],
   "source": [
    "df_1[['Quantity', 'UnitPrice', 'TotalPrice']].describe()"
   ]
  },
  {
   "cell_type": "markdown",
   "metadata": {},
   "source": [
    "Treating rows with 'TotalPrice' less than 0.01"
   ]
  },
  {
   "cell_type": "code",
   "execution_count": 362,
   "metadata": {},
   "outputs": [
    {
     "name": "stdout",
     "output_type": "stream",
     "text": [
      "Quantidade de registros com TotalPrice menor do que 0.01 é: 4\n"
     ]
    }
   ],
   "source": [
    "# Contar registros com TotalPrice menor do que 0.01\n",
    "quant_sm = (df_1['TotalPrice'] < 0.01).sum()\n",
    "\n",
    "# Exibir os resultados\n",
    "print(f\"Quantidade de registros com TotalPrice menor do que 0.01 é: {quant_sm}\")\n",
    "\n",
    "# Filtrar registros com TotalPrice menor do que 0.01\n",
    "df_1 = df_1[(df_1['TotalPrice'] >= 0.01)]"
   ]
  },
  {
   "cell_type": "markdown",
   "metadata": {},
   "source": [
    "Treating rows with 'Quantity' greater than 4800"
   ]
  },
  {
   "cell_type": "code",
   "execution_count": 363,
   "metadata": {},
   "outputs": [
    {
     "data": {
      "text/html": [
       "<div>\n",
       "<style scoped>\n",
       "    .dataframe tbody tr th:only-of-type {\n",
       "        vertical-align: middle;\n",
       "    }\n",
       "\n",
       "    .dataframe tbody tr th {\n",
       "        vertical-align: top;\n",
       "    }\n",
       "\n",
       "    .dataframe thead th {\n",
       "        text-align: right;\n",
       "    }\n",
       "</style>\n",
       "<table border=\"1\" class=\"dataframe\">\n",
       "  <thead>\n",
       "    <tr style=\"text-align: right;\">\n",
       "      <th></th>\n",
       "      <th>Quantity</th>\n",
       "      <th>UnitPrice</th>\n",
       "      <th>TotalPrice</th>\n",
       "    </tr>\n",
       "  </thead>\n",
       "  <tbody>\n",
       "    <tr>\n",
       "      <th>count</th>\n",
       "      <td>436162.000000</td>\n",
       "      <td>436162.000000</td>\n",
       "      <td>436162.000000</td>\n",
       "    </tr>\n",
       "    <tr>\n",
       "      <th>mean</th>\n",
       "      <td>4.938296</td>\n",
       "      <td>2.699202</td>\n",
       "      <td>10.785604</td>\n",
       "    </tr>\n",
       "    <tr>\n",
       "      <th>std</th>\n",
       "      <td>4.508591</td>\n",
       "      <td>1.927285</td>\n",
       "      <td>11.514787</td>\n",
       "    </tr>\n",
       "    <tr>\n",
       "      <th>min</th>\n",
       "      <td>1.000000</td>\n",
       "      <td>0.060000</td>\n",
       "      <td>0.060000</td>\n",
       "    </tr>\n",
       "    <tr>\n",
       "      <th>25%</th>\n",
       "      <td>1.000000</td>\n",
       "      <td>1.250000</td>\n",
       "      <td>3.290000</td>\n",
       "    </tr>\n",
       "    <tr>\n",
       "      <th>50%</th>\n",
       "      <td>3.000000</td>\n",
       "      <td>2.080000</td>\n",
       "      <td>7.460000</td>\n",
       "    </tr>\n",
       "    <tr>\n",
       "      <th>75%</th>\n",
       "      <td>8.000000</td>\n",
       "      <td>3.750000</td>\n",
       "      <td>15.300000</td>\n",
       "    </tr>\n",
       "    <tr>\n",
       "      <th>max</th>\n",
       "      <td>23.000000</td>\n",
       "      <td>8.330000</td>\n",
       "      <td>191.590000</td>\n",
       "    </tr>\n",
       "  </tbody>\n",
       "</table>\n",
       "</div>"
      ],
      "text/plain": [
       "            Quantity      UnitPrice     TotalPrice\n",
       "count  436162.000000  436162.000000  436162.000000\n",
       "mean        4.938296       2.699202      10.785604\n",
       "std         4.508591       1.927285      11.514787\n",
       "min         1.000000       0.060000       0.060000\n",
       "25%         1.000000       1.250000       3.290000\n",
       "50%         3.000000       2.080000       7.460000\n",
       "75%         8.000000       3.750000      15.300000\n",
       "max        23.000000       8.330000     191.590000"
      ]
     },
     "execution_count": 363,
     "metadata": {},
     "output_type": "execute_result"
    }
   ],
   "source": [
    "df_1[['Quantity', 'UnitPrice', 'TotalPrice']].describe()"
   ]
  },
  {
   "cell_type": "code",
   "execution_count": 364,
   "metadata": {},
   "outputs": [
    {
     "name": "stdout",
     "output_type": "stream",
     "text": [
      "       InvoiceNo StockCode                       Description  Quantity  \\\n",
      "485       536409     22111      SCOTTIE DOG HOT WATER BOTTLE         1   \n",
      "489       536409     22866     HAND WARMER SCOTTY DOG DESIGN         1   \n",
      "494       536409     21866       UNION JACK FLAG LUGGAGE TAG         1   \n",
      "517       536409     21866       UNION JACK FLAG LUGGAGE TAG         1   \n",
      "521       536409     22900   SET 2 TEA TOWELS I LOVE LONDON          1   \n",
      "...          ...       ...                               ...       ...   \n",
      "541675    581538     22068       BLACK PIRATE TREASURE CHEST         1   \n",
      "541689    581538     23318    BOX OF 6 MINI VINTAGE CRACKERS         1   \n",
      "541692    581538     22992            REVOLVER WOODEN RULER          1   \n",
      "541699    581538     22694                      WICKER STAR          1   \n",
      "541701    581538     23343      JUMBO BAG VINTAGE CHRISTMAS          1   \n",
      "\n",
      "            InvoiceDate  UnitPrice  CustomerID         Country  TotalPrice  \n",
      "485     12/1/2010 11:45       4.95     17908.0  United Kingdom        4.95  \n",
      "489     12/1/2010 11:45       2.10     17908.0  United Kingdom        2.10  \n",
      "494     12/1/2010 11:45       1.25     17908.0  United Kingdom        1.25  \n",
      "517     12/1/2010 11:45       1.25     17908.0  United Kingdom        1.25  \n",
      "521     12/1/2010 11:45       2.95     17908.0  United Kingdom        2.95  \n",
      "...                 ...        ...         ...             ...         ...  \n",
      "541675  12/9/2011 11:34       0.39     14446.0  United Kingdom        0.39  \n",
      "541689  12/9/2011 11:34       2.49     14446.0  United Kingdom        2.49  \n",
      "541692  12/9/2011 11:34       1.95     14446.0  United Kingdom        1.95  \n",
      "541699  12/9/2011 11:34       2.10     14446.0  United Kingdom        2.10  \n",
      "541701  12/9/2011 11:34       2.08     14446.0  United Kingdom        2.08  \n",
      "\n",
      "[9521 rows x 9 columns]\n"
     ]
    }
   ],
   "source": [
    "duplicados = df_1[df_1.duplicated(keep=False)]\n",
    "print(duplicados)"
   ]
  },
  {
   "cell_type": "code",
   "execution_count": 365,
   "metadata": {},
   "outputs": [],
   "source": [
    "df_1.drop_duplicates(keep='last', inplace=True) "
   ]
  },
  {
   "cell_type": "code",
   "execution_count": 366,
   "metadata": {},
   "outputs": [
    {
     "name": "stdout",
     "output_type": "stream",
     "text": [
      "Empty DataFrame\n",
      "Columns: [InvoiceNo, StockCode, Description, Quantity, InvoiceDate, UnitPrice, CustomerID, Country, TotalPrice]\n",
      "Index: []\n"
     ]
    }
   ],
   "source": [
    "duplicados = df_1[df_1.duplicated(keep='first')]\n",
    "print(duplicados)"
   ]
  },
  {
   "cell_type": "code",
   "execution_count": 367,
   "metadata": {},
   "outputs": [
    {
     "data": {
      "text/html": [
       "<div>\n",
       "<style scoped>\n",
       "    .dataframe tbody tr th:only-of-type {\n",
       "        vertical-align: middle;\n",
       "    }\n",
       "\n",
       "    .dataframe tbody tr th {\n",
       "        vertical-align: top;\n",
       "    }\n",
       "\n",
       "    .dataframe thead th {\n",
       "        text-align: right;\n",
       "    }\n",
       "</style>\n",
       "<table border=\"1\" class=\"dataframe\">\n",
       "  <thead>\n",
       "    <tr style=\"text-align: right;\">\n",
       "      <th></th>\n",
       "      <th>Quantity</th>\n",
       "      <th>UnitPrice</th>\n",
       "      <th>TotalPrice</th>\n",
       "    </tr>\n",
       "  </thead>\n",
       "  <tbody>\n",
       "    <tr>\n",
       "      <th>count</th>\n",
       "      <td>431218.000000</td>\n",
       "      <td>431218.000000</td>\n",
       "      <td>431218.000000</td>\n",
       "    </tr>\n",
       "    <tr>\n",
       "      <th>mean</th>\n",
       "      <td>4.970481</td>\n",
       "      <td>2.705439</td>\n",
       "      <td>10.864298</td>\n",
       "    </tr>\n",
       "    <tr>\n",
       "      <th>std</th>\n",
       "      <td>4.515114</td>\n",
       "      <td>1.929730</td>\n",
       "      <td>11.542093</td>\n",
       "    </tr>\n",
       "    <tr>\n",
       "      <th>min</th>\n",
       "      <td>1.000000</td>\n",
       "      <td>0.060000</td>\n",
       "      <td>0.060000</td>\n",
       "    </tr>\n",
       "    <tr>\n",
       "      <th>25%</th>\n",
       "      <td>1.000000</td>\n",
       "      <td>1.250000</td>\n",
       "      <td>3.290000</td>\n",
       "    </tr>\n",
       "    <tr>\n",
       "      <th>50%</th>\n",
       "      <td>3.000000</td>\n",
       "      <td>2.080000</td>\n",
       "      <td>7.500000</td>\n",
       "    </tr>\n",
       "    <tr>\n",
       "      <th>75%</th>\n",
       "      <td>8.000000</td>\n",
       "      <td>3.750000</td>\n",
       "      <td>15.300000</td>\n",
       "    </tr>\n",
       "    <tr>\n",
       "      <th>max</th>\n",
       "      <td>23.000000</td>\n",
       "      <td>8.330000</td>\n",
       "      <td>191.590000</td>\n",
       "    </tr>\n",
       "  </tbody>\n",
       "</table>\n",
       "</div>"
      ],
      "text/plain": [
       "            Quantity      UnitPrice     TotalPrice\n",
       "count  431218.000000  431218.000000  431218.000000\n",
       "mean        4.970481       2.705439      10.864298\n",
       "std         4.515114       1.929730      11.542093\n",
       "min         1.000000       0.060000       0.060000\n",
       "25%         1.000000       1.250000       3.290000\n",
       "50%         3.000000       2.080000       7.500000\n",
       "75%         8.000000       3.750000      15.300000\n",
       "max        23.000000       8.330000     191.590000"
      ]
     },
     "execution_count": 367,
     "metadata": {},
     "output_type": "execute_result"
    }
   ],
   "source": [
    "df_1[['Quantity', 'UnitPrice', 'TotalPrice']].describe()"
   ]
  },
  {
   "cell_type": "code",
   "execution_count": 368,
   "metadata": {},
   "outputs": [
    {
     "name": "stdout",
     "output_type": "stream",
     "text": [
      "<class 'pandas.core.frame.DataFrame'>\n",
      "Index: 431218 entries, 0 to 541908\n",
      "Data columns (total 9 columns):\n",
      " #   Column       Non-Null Count   Dtype  \n",
      "---  ------       --------------   -----  \n",
      " 0   InvoiceNo    431218 non-null  object \n",
      " 1   StockCode    431218 non-null  object \n",
      " 2   Description  431218 non-null  object \n",
      " 3   Quantity     431218 non-null  int64  \n",
      " 4   InvoiceDate  431218 non-null  object \n",
      " 5   UnitPrice    431218 non-null  float64\n",
      " 6   CustomerID   316089 non-null  float64\n",
      " 7   Country      431218 non-null  object \n",
      " 8   TotalPrice   431218 non-null  float64\n",
      "dtypes: float64(3), int64(1), object(5)\n",
      "memory usage: 32.9+ MB\n"
     ]
    }
   ],
   "source": [
    "df_1.info()"
   ]
  },
  {
   "cell_type": "code",
   "execution_count": 381,
   "metadata": {},
   "outputs": [
    {
     "data": {
      "text/html": [
       "<div>\n",
       "<style scoped>\n",
       "    .dataframe tbody tr th:only-of-type {\n",
       "        vertical-align: middle;\n",
       "    }\n",
       "\n",
       "    .dataframe tbody tr th {\n",
       "        vertical-align: top;\n",
       "    }\n",
       "\n",
       "    .dataframe thead th {\n",
       "        text-align: right;\n",
       "    }\n",
       "</style>\n",
       "<table border=\"1\" class=\"dataframe\">\n",
       "  <thead>\n",
       "    <tr style=\"text-align: right;\">\n",
       "      <th></th>\n",
       "      <th>InvoiceNo</th>\n",
       "      <th>StockCode</th>\n",
       "      <th>Description</th>\n",
       "      <th>Quantity</th>\n",
       "      <th>InvoiceDate</th>\n",
       "      <th>UnitPrice</th>\n",
       "      <th>CustomerID</th>\n",
       "      <th>Country</th>\n",
       "      <th>TotalPrice</th>\n",
       "    </tr>\n",
       "  </thead>\n",
       "  <tbody>\n",
       "    <tr>\n",
       "      <th>0</th>\n",
       "      <td>536365</td>\n",
       "      <td>85123A</td>\n",
       "      <td>WHITE HANGING HEART T-LIGHT HOLDER</td>\n",
       "      <td>6</td>\n",
       "      <td>12/1/2010 8:26</td>\n",
       "      <td>2.55</td>\n",
       "      <td>17850.0</td>\n",
       "      <td>United Kingdom</td>\n",
       "      <td>15.30</td>\n",
       "    </tr>\n",
       "    <tr>\n",
       "      <th>1</th>\n",
       "      <td>536365</td>\n",
       "      <td>71053</td>\n",
       "      <td>WHITE METAL LANTERN</td>\n",
       "      <td>6</td>\n",
       "      <td>12/1/2010 8:26</td>\n",
       "      <td>3.39</td>\n",
       "      <td>17850.0</td>\n",
       "      <td>United Kingdom</td>\n",
       "      <td>20.34</td>\n",
       "    </tr>\n",
       "    <tr>\n",
       "      <th>2</th>\n",
       "      <td>536365</td>\n",
       "      <td>84406B</td>\n",
       "      <td>CREAM CUPID HEARTS COAT HANGER</td>\n",
       "      <td>8</td>\n",
       "      <td>12/1/2010 8:26</td>\n",
       "      <td>2.75</td>\n",
       "      <td>17850.0</td>\n",
       "      <td>United Kingdom</td>\n",
       "      <td>22.00</td>\n",
       "    </tr>\n",
       "    <tr>\n",
       "      <th>3</th>\n",
       "      <td>536365</td>\n",
       "      <td>84029G</td>\n",
       "      <td>KNITTED UNION FLAG HOT WATER BOTTLE</td>\n",
       "      <td>6</td>\n",
       "      <td>12/1/2010 8:26</td>\n",
       "      <td>3.39</td>\n",
       "      <td>17850.0</td>\n",
       "      <td>United Kingdom</td>\n",
       "      <td>20.34</td>\n",
       "    </tr>\n",
       "    <tr>\n",
       "      <th>4</th>\n",
       "      <td>536365</td>\n",
       "      <td>84029E</td>\n",
       "      <td>RED WOOLLY HOTTIE WHITE HEART.</td>\n",
       "      <td>6</td>\n",
       "      <td>12/1/2010 8:26</td>\n",
       "      <td>3.39</td>\n",
       "      <td>17850.0</td>\n",
       "      <td>United Kingdom</td>\n",
       "      <td>20.34</td>\n",
       "    </tr>\n",
       "  </tbody>\n",
       "</table>\n",
       "</div>"
      ],
      "text/plain": [
       "  InvoiceNo StockCode                          Description  Quantity  \\\n",
       "0    536365    85123A   WHITE HANGING HEART T-LIGHT HOLDER         6   \n",
       "1    536365     71053                  WHITE METAL LANTERN         6   \n",
       "2    536365    84406B       CREAM CUPID HEARTS COAT HANGER         8   \n",
       "3    536365    84029G  KNITTED UNION FLAG HOT WATER BOTTLE         6   \n",
       "4    536365    84029E       RED WOOLLY HOTTIE WHITE HEART.         6   \n",
       "\n",
       "      InvoiceDate  UnitPrice  CustomerID         Country  TotalPrice  \n",
       "0  12/1/2010 8:26       2.55     17850.0  United Kingdom       15.30  \n",
       "1  12/1/2010 8:26       3.39     17850.0  United Kingdom       20.34  \n",
       "2  12/1/2010 8:26       2.75     17850.0  United Kingdom       22.00  \n",
       "3  12/1/2010 8:26       3.39     17850.0  United Kingdom       20.34  \n",
       "4  12/1/2010 8:26       3.39     17850.0  United Kingdom       20.34  "
      ]
     },
     "execution_count": 381,
     "metadata": {},
     "output_type": "execute_result"
    }
   ],
   "source": [
    "df_1.head()"
   ]
  },
  {
   "cell_type": "code",
   "execution_count": 388,
   "metadata": {},
   "outputs": [
    {
     "name": "stdout",
     "output_type": "stream",
     "text": [
      "115129\n"
     ]
    }
   ],
   "source": [
    "count_customers = (df_1['CustomerID'].isna()).sum()\n",
    "print(count_customers)"
   ]
  },
  {
   "cell_type": "code",
   "execution_count": 389,
   "metadata": {},
   "outputs": [
    {
     "name": "stdout",
     "output_type": "stream",
     "text": [
      "     InvoiceNo StockCode                      Description  Quantity  \\\n",
      "1443    536544     21773  DECORATIVE ROSE BATHROOM BOTTLE         1   \n",
      "1444    536544     21774  DECORATIVE CATS BATHROOM BOTTLE         2   \n",
      "1445    536544     21786               POLKADOT RAIN HAT          4   \n",
      "1446    536544     21787            RAIN PONCHO RETROSPOT         2   \n",
      "1447    536544     21790               VINTAGE SNAP CARDS         9   \n",
      "\n",
      "          InvoiceDate  UnitPrice  CustomerID         Country  TotalPrice  \n",
      "1443  12/1/2010 14:32       2.51         NaN  United Kingdom        2.51  \n",
      "1444  12/1/2010 14:32       2.51         NaN  United Kingdom        5.02  \n",
      "1445  12/1/2010 14:32       0.85         NaN  United Kingdom        3.40  \n",
      "1446  12/1/2010 14:32       1.66         NaN  United Kingdom        3.32  \n",
      "1447  12/1/2010 14:32       1.66         NaN  United Kingdom       14.94  \n",
      "Quantidade de registros com CustomerID faltante: 115129\n"
     ]
    }
   ],
   "source": [
    "# Filtrar as linhas onde CustomerID está faltante (NaN)\n",
    "missing_customerid_df = df_1[df_1['CustomerID'].isna()]\n",
    "\n",
    "# Exibir as primeiras linhas para verificar\n",
    "print(missing_customerid_df.head())\n",
    "\n",
    "# Contar quantos registros têm CustomerID faltante\n",
    "missing_count = missing_customerid_df.shape[0]\n",
    "print(f\"Quantidade de registros com CustomerID faltante: {missing_count}\")\n"
   ]
  }
 ],
 "metadata": {
  "kernelspec": {
   "display_name": "base",
   "language": "python",
   "name": "python3"
  },
  "language_info": {
   "codemirror_mode": {
    "name": "ipython",
    "version": 3
   },
   "file_extension": ".py",
   "mimetype": "text/x-python",
   "name": "python",
   "nbconvert_exporter": "python",
   "pygments_lexer": "ipython3",
   "version": "3.11.7"
  }
 },
 "nbformat": 4,
 "nbformat_minor": 2
}
